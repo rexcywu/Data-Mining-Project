{
 "cells": [
  {
   "cell_type": "code",
   "execution_count": null,
   "metadata": {
    "id": "O1yIIC2-GLxy"
   },
   "outputs": [],
   "source": [
    "import pandas as pd\n",
    "import numpy as np\n",
    "import os\n",
    "from scipy.sparse import csr_matrix\n",
    "from xgboost import XGBClassifier\n",
    "\n",
    "#print(os.path.abspath(__file__))\n",
    "train_data = pd.read_csv(r'Task-2_Codes/preprocessed_train_data.csv')\n",
    "test_data = pd.read_csv(r'Task-2_Codes/preprocessed_test_data.csv')\n",
    "\n",
    "y_train = train_data['Exited']\n",
    "X_train = train_data.drop(columns=['Exited'])\n",
    "X_test = test_data.drop(columns=['Exited'])\n",
    "X_test = X_test.fillna(0)\n",
    "\n",
    "#learning rate = 0.1 , max_depth = 10, min_child_weight = 4, \n",
    "xgbc=XGBClassifier(learning_rate=0.1, max_depth = 10, min_child_weight = 4, gamma = 0.26, subsample=1, scale_pos_weight=0.9, objective='binary:logistic')\n",
    "xgbc.fit(X_train,y_train)\n",
    "test_Response = xgbc.predict(X_test)\n",
    "test_Response = pd.DataFrame(data=test_Response)\n",
    "test_Response.index += 7500\n",
    "test_Response.index.name = 'RowNumber'\n",
    "test_Response.to_csv(r'submission_2_XGBoost.csv')"
   ]
  }
 ],
 "metadata": {
  "colab": {
   "name": "task2_XGBoost_BestResult.ipynb",
   "provenance": []
  },
  "kernelspec": {
   "display_name": "Python 3",
   "language": "python",
   "name": "python3"
  },
  "language_info": {
   "codemirror_mode": {
    "name": "ipython",
    "version": 3
   },
   "file_extension": ".py",
   "mimetype": "text/x-python",
   "name": "python",
   "nbconvert_exporter": "python",
   "pygments_lexer": "ipython3",
   "version": "3.8.3"
  }
 },
 "nbformat": 4,
 "nbformat_minor": 1
}
