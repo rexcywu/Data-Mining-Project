{
 "cells": [
  {
   "cell_type": "code",
   "execution_count": 7,
   "metadata": {},
   "outputs": [],
   "source": [
    "import pandas as pd\n",
    "import numpy as np"
   ]
  },
  {
   "cell_type": "code",
   "execution_count": 8,
   "metadata": {},
   "outputs": [],
   "source": [
    "train_data = pd.read_csv(\"preprocessed_train_data.csv\")"
   ]
  },
  {
   "cell_type": "code",
   "execution_count": 9,
   "metadata": {},
   "outputs": [],
   "source": [
    "Y = train_data['Exited']\n",
    "X = train_data.drop(columns=['Exited'])"
   ]
  },
  {
   "cell_type": "code",
   "execution_count": 10,
   "metadata": {},
   "outputs": [],
   "source": [
    "from sklearn.model_selection import train_test_split\n",
    "X_train, X_test, Y_train, Y_test = train_test_split(X, Y, test_size=0.2, random_state=1)"
   ]
  },
  {
   "cell_type": "code",
   "execution_count": 11,
   "metadata": {},
   "outputs": [],
   "source": [
    "from scipy.sparse import csr_matrix\n",
    "X_train = csr_matrix(X_train)\n",
    "X_test = csr_matrix(X_test)"
   ]
  },
  {
   "cell_type": "markdown",
   "metadata": {},
   "source": [
    "The part below was used to plot the graphs to compare training accuracy and test accuracy"
   ]
  },
  {
   "cell_type": "code",
   "execution_count": null,
   "metadata": {},
   "outputs": [],
   "source": [
    "from sklearn.ensemble import RandomForestClassifier\n",
    "from sklearn.metrics import accuracy_score\n",
    "\n",
    "num = [1,2,3,4,5,6,7,8,9,10,11]\n",
    "trainAcc = []\n",
    "testAcc = []\n",
    "\n",
    "for k in num:        \n",
    "    clf = RandomForestClassifier(n_estimators= 500, max_depth = k, min_samples_leaf = 2, max_features = k)\n",
    "    clf.fit(X_train, Y_train)\n",
    "    Y_predTrain = clf.predict(X_train)\n",
    "    Y_predTest = clf.predict(X_test)\n",
    "    trainAcc.append(accuracy_score(Y_train, Y_predTrain))\n",
    "    testAcc.append(accuracy_score(Y_test, Y_predTest))"
   ]
  },
  {
   "cell_type": "code",
   "execution_count": null,
   "metadata": {},
   "outputs": [],
   "source": [
    "import matplotlib.pyplot as plt\n",
    "\n",
    "plt.plot(numNeighbors, trainAcc, 'ro-', num, testAcc,'bv--')\n",
    "plt.legend(['Training Accuracy','Test Accuracy'])\n",
    "plt.xlabel('Max Features')\n",
    "plt.ylabel('Accuracy')\n",
    "plt.show()"
   ]
  },
  {
   "cell_type": "markdown",
   "metadata": {},
   "source": [
    "The rest of the code was used to fine-tune the parameters to obtain the best results"
   ]
  },
  {
   "cell_type": "code",
   "execution_count": 24,
   "metadata": {},
   "outputs": [],
   "source": [
    "from sklearn.ensemble import RandomForestClassifier\n",
    "from sklearn.metrics import accuracy_score\n",
    "\n",
    "max_features = [2,3,4,5,6,7,8,9,10]\n",
    "min_samples_leaf = [2,3,4,5,6]\n",
    "max_depth = [8,9,10,11,12,13,14,15,16,17]\n",
    "column_names = ['max_features', 'min_samples_leaf', 'max_depth', 'Score']\n",
    "results = pd.DataFrame(columns = column_names)\n",
    "\n",
    "\n",
    "for i in max_features:\n",
    "    for j in min_samples_leaf:\n",
    "        for k in max_depth:\n",
    "            clf = RandomForestClassifier(n_estimators= 500, max_depth = k, min_samples_leaf = j, max_features = i)\n",
    "            clf.fit(X_train, Y_train)\n",
    "            Y_predTest = clf.predict(X_test)\n",
    "            Score = accuracy_score(Y_test, Y_predTest)\n",
    "            data = pd.Series({'max_features' : i, 'min_samples_leaf' : j, 'max_depth' : k, 'Score' : Score})\n",
    "            results = results.append(data, ignore_index=True)\n",
    "    "
   ]
  },
  {
   "cell_type": "code",
   "execution_count": 25,
   "metadata": {},
   "outputs": [
    {
     "name": "stdout",
     "output_type": "stream",
     "text": [
      "     max_features  min_samples_leaf  max_depth     Score\n",
      "117           4.0               3.0       15.0  0.846000\n",
      "153           5.0               2.0       11.0  0.846000\n",
      "219           6.0               3.0       17.0  0.846000\n",
      "113           4.0               3.0       11.0  0.846000\n",
      "169           5.0               3.0       17.0  0.846000\n",
      "..            ...               ...        ...       ...\n",
      "20            2.0               4.0        8.0  0.834667\n",
      "411          10.0               3.0        9.0  0.834667\n",
      "38            2.0               5.0       16.0  0.834667\n",
      "400          10.0               2.0        8.0  0.834000\n",
      "401          10.0               2.0        9.0  0.833333\n",
      "\n",
      "[450 rows x 4 columns]\n"
     ]
    }
   ],
   "source": [
    "results.sort_values(by='Score', ascending=False, inplace= True)\n",
    "print(results)"
   ]
  },
  {
   "cell_type": "code",
   "execution_count": 26,
   "metadata": {},
   "outputs": [],
   "source": []
  },
  {
   "cell_type": "code",
   "execution_count": null,
   "metadata": {},
   "outputs": [],
   "source": []
  }
 ],
 "metadata": {
  "kernelspec": {
   "display_name": "Python 3",
   "language": "python",
   "name": "python3"
  },
  "language_info": {
   "codemirror_mode": {
    "name": "ipython",
    "version": 3
   },
   "file_extension": ".py",
   "mimetype": "text/x-python",
   "name": "python",
   "nbconvert_exporter": "python",
   "pygments_lexer": "ipython3",
   "version": "3.8.3"
  }
 },
 "nbformat": 4,
 "nbformat_minor": 4
}
