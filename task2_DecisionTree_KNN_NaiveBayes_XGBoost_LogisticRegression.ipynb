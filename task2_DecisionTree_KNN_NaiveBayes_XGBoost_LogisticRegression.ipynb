{
  "nbformat": 4,
  "nbformat_minor": 0,
  "metadata": {
    "colab": {
      "name": "task2_DecisionTree/KNN/NaiveBayes/XGBoost/LogisticRegression.ipynb",
      "provenance": [],
      "collapsed_sections": []
    },
    "kernelspec": {
      "name": "python3",
      "display_name": "Python 3"
    }
  },
  "cells": [
    {
      "cell_type": "code",
      "metadata": {
        "id": "gNaM9OCfrHe1"
      },
      "source": [
        "import pandas as pd\n",
        "import numpy as np\n",
        "import os\n",
        "from sklearn import tree\n",
        "from sklearn.neighbors import KNeighborsClassifier\n",
        "import matplotlib.pyplot as plt\n",
        "from scipy.sparse import csr_matrix"
      ],
      "execution_count": null,
      "outputs": []
    },
    {
      "cell_type": "code",
      "metadata": {
        "id": "7EuebRNQsWcw"
      },
      "source": [
        "##Import task2 data\n",
        "train_data = pd.read_csv(\"preprocessed_train_data.csv\")\n",
        "test_data = pd.read_csv(\"preprocessed_test_data.csv\")"
      ],
      "execution_count": null,
      "outputs": []
    },
    {
      "cell_type": "code",
      "metadata": {
        "id": "cY_AxSlhtSha"
      },
      "source": [
        "y_train = train_data['Exited']\n",
        "X_train = train_data.drop(columns=['Exited'])\n",
        "X_test = test_data.drop(columns=['Exited'])\n",
        "X_test = X_test.fillna(0)\n",
        "X_test = csr_matrix(X_test).todense()"
      ],
      "execution_count": null,
      "outputs": []
    },
    {
      "cell_type": "code",
      "metadata": {
        "id": "xSIGTImLtnT-"
      },
      "source": [
        "clf_gini = tree.DecisionTreeClassifier(criterion=\"gini\",max_depth = 5)\n",
        "clf_gini = clf_gini.fit(X_train, y_train)\n",
        "test_Response = clf_gini.predict(X_test)\n",
        "test_Response = pd.DataFrame(data=test_Response)\n",
        "test_Response.index += 7500\n",
        "test_Response.index.name = 'RowNumber'\n",
        "test_Response.to_csv(r'/content/drive/My Drive/FTEC_4003_Project/Task_2/submission_2_GINI_5.csv')"
      ],
      "execution_count": null,
      "outputs": []
    },
    {
      "cell_type": "code",
      "metadata": {
        "id": "hSzkqgh_tsMC"
      },
      "source": [
        "clf_gini = tree.DecisionTreeClassifier(criterion=\"gini\",max_depth = 7)\n",
        "clf_gini = clf_gini.fit(X_train, y_train)\n",
        "test_Response = clf_gini.predict(X_test)\n",
        "test_Response = pd.DataFrame(data=test_Response)\n",
        "test_Response.index += 7500\n",
        "test_Response.index.name = 'RowNumber'\n",
        "test_Response.to_csv(r'/content/drive/My Drive/FTEC_4003_Project/Task_2/submission_2_GINI_7.csv')"
      ],
      "execution_count": null,
      "outputs": []
    },
    {
      "cell_type": "code",
      "metadata": {
        "id": "8xP3oFotusO5"
      },
      "source": [
        "clf_gini = tree.DecisionTreeClassifier(criterion=\"entropy\",max_depth = 3)\n",
        "clf_gini = clf_gini.fit(X_train, y_train)\n",
        "test_Response = clf_gini.predict(X_test)\n",
        "test_Response = pd.DataFrame(data=test_Response)\n",
        "test_Response.index += 7500\n",
        "test_Response.index.name = 'RowNumber'\n",
        "test_Response.to_csv(r'/content/drive/My Drive/FTEC_4003_Project/Task_2/submission_2_entropy_3.csv')"
      ],
      "execution_count": null,
      "outputs": []
    },
    {
      "cell_type": "code",
      "metadata": {
        "id": "wL65sCOLuwhl"
      },
      "source": [
        "clf_gini = tree.DecisionTreeClassifier(criterion=\"entropy\",max_depth = 5)\n",
        "clf_gini = clf_gini.fit(X_train, y_train)\n",
        "test_Response = clf_gini.predict(X_test)\n",
        "test_Response = pd.DataFrame(data=test_Response)\n",
        "test_Response.index += 7500\n",
        "test_Response.index.name = 'RowNumber'\n",
        "test_Response.to_csv(r'/content/drive/My Drive/FTEC_4003_Project/Task_2/submission_2_entropy_5.csv')\n"
      ],
      "execution_count": null,
      "outputs": []
    },
    {
      "cell_type": "code",
      "metadata": {
        "id": "AI8NyF7Iu1zK"
      },
      "source": [
        "clf_gini = tree.DecisionTreeClassifier(criterion=\"entropy\",max_depth = 7)\n",
        "clf_gini = clf_gini.fit(X_train, y_train)\n",
        "test_Response = clf_gini.predict(X_test)\n",
        "test_Response = pd.DataFrame(data=test_Response)\n",
        "test_Response.index += 7500\n",
        "test_Response.index.name = 'RowNumber'\n",
        "test_Response.to_csv(r'/content/drive/My Drive/FTEC_4003_Project/Task_2/submission_2_entropy_7.csv')\n"
      ],
      "execution_count": null,
      "outputs": []
    },
    {
      "cell_type": "code",
      "metadata": {
        "id": "tdpZDY1IOxIj"
      },
      "source": [
        "from xgboost import XGBClassifier\n",
        "xgbc=XGBClassifier(learning_rate=0.1, max_depth = 10, min_child_weight = 4, gamma = 0.26, subsample=1, scale_pos_weight=0.9, objective='binary:logistic')\n",
        "xgbc.fit(X_train,y_train)\n",
        "test_Response = xgbc.predict(X_test)\n",
        "test_Response = pd.DataFrame(data=test_Response)\n",
        "test_Response.index += 7500\n",
        "test_Response.index.name = 'RowNumber'\n",
        "test_Response.to_csv(r'/content/drive/My Drive/FTEC_4003_Project/Task_2/submission_2_xgbc.csv')\n"
      ],
      "execution_count": null,
      "outputs": []
    },
    {
      "cell_type": "code",
      "metadata": {
        "id": "AcKH5ubap29z"
      },
      "source": [
        "from sklearn.linear_model import LogisticRegression\n",
        "clf=LogisticRegression(penalty = 'l2',random_state=0).fit(X_train, y_train)\n",
        "test_Response = clf.predict(X_test)\n",
        "test_Response = pd.DataFrame(data=test_Response)\n",
        "test_Response.index += 7500\n",
        "test_Response.index.name = 'RowNumber'\n",
        "test_Response.to_csv(r'/content/drive/My Drive/FTEC_4003_Project/Task_2/submission_2_LR.csv')"
      ],
      "execution_count": null,
      "outputs": []
    },
    {
      "cell_type": "code",
      "metadata": {
        "id": "Z5w2PFPSqVPI"
      },
      "source": [
        "from sklearn.neighbors import KNeighborsClassifier\n",
        "clf_KNN = KNeighborsClassifier(n_neighbors=2, metric='minkowski', p=50)\n",
        "clf_KNN = clf_KNN.fit(X_train, y_train)\n",
        "test_Response = clf_KNN.predict(X_test)\n",
        "test_Response = pd.DataFrame(data=test_Response, columns=[\"Exited\"])\n",
        "test_Response.index += 7500\n",
        "test_Response.index.name = 'RowNumber'\n",
        "test_Response.to_csv(r'/content/drive/My Drive/FTEC_4003_Project/Task_2/submission_2_KNN_50.csv')\n",
        "\n",
        "clf_KNN = KNeighborsClassifier(n_neighbors=2, metric='minkowski', p=15)\n",
        "clf_KNN = clf_KNN.fit(X_train, y_train)\n",
        "test_Response = clf_KNN.predict(X_test)\n",
        "test_Response = pd.DataFrame(data=test_Response, columns=[\"Exited\"])\n",
        "test_Response.index += 7500\n",
        "test_Response.index.name = 'RowNumber'\n",
        "test_Response.to_csv(r'/content/drive/My Drive/FTEC_4003_Project/Task_2/submission_2_KNN_15.csv')"
      ],
      "execution_count": null,
      "outputs": []
    }
  ]
}